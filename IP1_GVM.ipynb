{
 "cells": [
  {
   "cell_type": "markdown",
   "id": "aa648942",
   "metadata": {},
   "source": [
    "## Working with Numpy\n",
    "## Gabriel Migliore\n",
    "## Python 3\n",
    "## Spring 2022"
   ]
  },
  {
   "cell_type": "markdown",
   "id": "3d759e1b",
   "metadata": {},
   "source": [
    "## 1. Create a 2 by 2 Numpy array with elements"
   ]
  },
  {
   "cell_type": "code",
   "execution_count": 1,
   "id": "af5d4192",
   "metadata": {},
   "outputs": [],
   "source": [
    "import numpy as np"
   ]
  },
  {
   "cell_type": "code",
   "execution_count": 12,
   "id": "8a51f869",
   "metadata": {},
   "outputs": [],
   "source": [
    "array1=np.array([(10,20),(30,40)], dtype=int)"
   ]
  },
  {
   "cell_type": "code",
   "execution_count": 13,
   "id": "7d5d6093",
   "metadata": {},
   "outputs": [
    {
     "data": {
      "text/plain": [
       "array([[10, 20],\n",
       "       [30, 40]])"
      ]
     },
     "execution_count": 13,
     "metadata": {},
     "output_type": "execute_result"
    }
   ],
   "source": [
    "array1"
   ]
  },
  {
   "cell_type": "code",
   "execution_count": 17,
   "id": "300c2f55",
   "metadata": {},
   "outputs": [],
   "source": [
    "array2=array1*array1"
   ]
  },
  {
   "cell_type": "code",
   "execution_count": 18,
   "id": "ddaf84dc",
   "metadata": {},
   "outputs": [
    {
     "data": {
      "text/plain": [
       "array([[ 100,  400],\n",
       "       [ 900, 1600]])"
      ]
     },
     "execution_count": 18,
     "metadata": {},
     "output_type": "execute_result"
    }
   ],
   "source": [
    "array2"
   ]
  },
  {
   "cell_type": "code",
   "execution_count": 19,
   "id": "14549dd9",
   "metadata": {},
   "outputs": [],
   "source": [
    "array2=np.add(array1,100)"
   ]
  },
  {
   "cell_type": "code",
   "execution_count": 20,
   "id": "c89f82cf",
   "metadata": {},
   "outputs": [
    {
     "data": {
      "text/plain": [
       "array([[110, 120],\n",
       "       [130, 140]])"
      ]
     },
     "execution_count": 20,
     "metadata": {},
     "output_type": "execute_result"
    }
   ],
   "source": [
    "array2"
   ]
  },
  {
   "cell_type": "code",
   "execution_count": 21,
   "id": "644aa388",
   "metadata": {},
   "outputs": [],
   "source": [
    "array2=array1*5"
   ]
  },
  {
   "cell_type": "code",
   "execution_count": 22,
   "id": "7ac0c0ec",
   "metadata": {},
   "outputs": [
    {
     "data": {
      "text/plain": [
       "array([[ 50, 100],\n",
       "       [150, 200]])"
      ]
     },
     "execution_count": 22,
     "metadata": {},
     "output_type": "execute_result"
    }
   ],
   "source": [
    "array2"
   ]
  },
  {
   "cell_type": "code",
   "execution_count": 23,
   "id": "7b4d9406",
   "metadata": {},
   "outputs": [],
   "source": [
    "array2=np.sqrt(array1)"
   ]
  },
  {
   "cell_type": "code",
   "execution_count": 24,
   "id": "38b10f79",
   "metadata": {},
   "outputs": [
    {
     "data": {
      "text/plain": [
       "array([[3.16227766, 4.47213595],\n",
       "       [5.47722558, 6.32455532]])"
      ]
     },
     "execution_count": 24,
     "metadata": {},
     "output_type": "execute_result"
    }
   ],
   "source": [
    "array2"
   ]
  },
  {
   "cell_type": "markdown",
   "id": "a10c393b",
   "metadata": {},
   "source": [
    "## 2. Create a 3 by 3 array"
   ]
  },
  {
   "cell_type": "code",
   "execution_count": 56,
   "id": "e6c851df",
   "metadata": {},
   "outputs": [],
   "source": [
    "array3=np.linspace(3,27,9)\n",
    "array3=array3.astype(int)\n",
    "array3=array3.reshape(3,3)"
   ]
  },
  {
   "cell_type": "code",
   "execution_count": 57,
   "id": "256095b4",
   "metadata": {},
   "outputs": [
    {
     "data": {
      "text/plain": [
       "array([[ 3,  6,  9],\n",
       "       [12, 15, 18],\n",
       "       [21, 24, 27]])"
      ]
     },
     "execution_count": 57,
     "metadata": {},
     "output_type": "execute_result"
    }
   ],
   "source": [
    "array3"
   ]
  },
  {
   "cell_type": "code",
   "execution_count": 64,
   "id": "00238abc",
   "metadata": {},
   "outputs": [],
   "source": [
    "array4=np.linspace(10,20,9)\n",
    "array4=array4.reshape(3,3)"
   ]
  },
  {
   "cell_type": "code",
   "execution_count": 67,
   "id": "f33b0121",
   "metadata": {},
   "outputs": [
    {
     "data": {
      "text/plain": [
       "array([[10.  , 11.25, 12.5 ],\n",
       "       [13.75, 15.  , 16.25],\n",
       "       [17.5 , 18.75, 20.  ]])"
      ]
     },
     "execution_count": 67,
     "metadata": {},
     "output_type": "execute_result"
    }
   ],
   "source": [
    "array4"
   ]
  },
  {
   "cell_type": "code",
   "execution_count": 69,
   "id": "fc864ce4",
   "metadata": {},
   "outputs": [],
   "source": [
    "array5=array3*array4"
   ]
  },
  {
   "cell_type": "code",
   "execution_count": 70,
   "id": "68a0e356",
   "metadata": {},
   "outputs": [
    {
     "data": {
      "text/plain": [
       "array([[ 30. ,  67.5, 112.5],\n",
       "       [165. , 225. , 292.5],\n",
       "       [367.5, 450. , 540. ]])"
      ]
     },
     "execution_count": 70,
     "metadata": {},
     "output_type": "execute_result"
    }
   ],
   "source": [
    "array5"
   ]
  },
  {
   "cell_type": "markdown",
   "id": "f2429f14",
   "metadata": {},
   "source": [
    "## 3. Five .npy files"
   ]
  },
  {
   "cell_type": "code",
   "execution_count": 73,
   "id": "25af1965",
   "metadata": {},
   "outputs": [],
   "source": [
    "array1=np.load('process1.npy')\n",
    "array2=np.load('process2.npy')\n",
    "array3=np.load('process3.npy')\n",
    "array4=np.load('process4.npy')\n",
    "array5=np.load('process5.npy')"
   ]
  },
  {
   "cell_type": "code",
   "execution_count": 76,
   "id": "6ede4a8a",
   "metadata": {},
   "outputs": [],
   "source": [
    "array6=np.vstack((array1,array2,array3,array4,array5))"
   ]
  },
  {
   "cell_type": "code",
   "execution_count": 77,
   "id": "e5cfccbc",
   "metadata": {},
   "outputs": [
    {
     "data": {
      "text/plain": [
       "array([[52, 12, 81,  0, 58],\n",
       "       [96,  4, 61, 16, 43],\n",
       "       [38, 96, 45, 17, 58],\n",
       "       [97, 21, 22, 25,  6],\n",
       "       [77,  6, 19,  2, 74]])"
      ]
     },
     "execution_count": 77,
     "metadata": {},
     "output_type": "execute_result"
    }
   ],
   "source": [
    "array6"
   ]
  },
  {
   "cell_type": "code",
   "execution_count": 79,
   "id": "02a09258",
   "metadata": {},
   "outputs": [
    {
     "data": {
      "text/plain": [
       "array([72. , 27.8, 45.6, 12. , 47.8])"
      ]
     },
     "execution_count": 79,
     "metadata": {},
     "output_type": "execute_result"
    }
   ],
   "source": [
    "array6.mean(axis=0)"
   ]
  }
 ],
 "metadata": {
  "kernelspec": {
   "display_name": "Python 3 (ipykernel)",
   "language": "python",
   "name": "python3"
  },
  "language_info": {
   "codemirror_mode": {
    "name": "ipython",
    "version": 3
   },
   "file_extension": ".py",
   "mimetype": "text/x-python",
   "name": "python",
   "nbconvert_exporter": "python",
   "pygments_lexer": "ipython3",
   "version": "3.9.7"
  }
 },
 "nbformat": 4,
 "nbformat_minor": 5
}
